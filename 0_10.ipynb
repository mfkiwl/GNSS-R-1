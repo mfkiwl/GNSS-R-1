{
  "nbformat": 4,
  "nbformat_minor": 0,
  "metadata": {
    "colab": {
      "name": "0-10.ipynb",
      "provenance": [],
      "collapsed_sections": []
    },
    "kernelspec": {
      "name": "python3",
      "display_name": "Python 3"
    },
    "language_info": {
      "name": "python"
    }
  },
  "cells": [
    {
      "cell_type": "markdown",
      "metadata": {
        "id": "jlj3y5vCMZ0w"
      },
      "source": [
        "GEREKLİ KÜTÜPHANELERİN YÜKLENMESİ"
      ]
    },
    {
      "cell_type": "code",
      "metadata": {
        "id": "jyl9xhtoLYp7"
      },
      "source": [
        "import pandas as pd\n",
        "import numpy as np\n",
        "import matplotlib.pyplot as plt\n",
        "import seaborn as sns\n",
        "%matplotlib inline\n",
        "\n",
        "from collections import Counter\n",
        "\n",
        "from sklearn.ensemble import RandomForestClassifier, AdaBoostClassifier, GradientBoostingClassifier, ExtraTreesClassifier, VotingClassifier\n",
        "from sklearn.discriminant_analysis import LinearDiscriminantAnalysis\n",
        "from sklearn.linear_model import LogisticRegression\n",
        "from sklearn.neighbors import KNeighborsClassifier\n",
        "from sklearn.tree import DecisionTreeClassifier\n",
        "from sklearn.neural_network import MLPClassifier\n",
        "from sklearn.svm import SVC\n",
        "from sklearn.model_selection import GridSearchCV, cross_val_score, StratifiedKFold, learning_curve\n",
        "\n",
        "from sklearn.metrics import classification_report\n",
        "from sklearn.metrics import confusion_matrix\n",
        "from sklearn.metrics import accuracy_score\n",
        "\n",
        "sns.set(style='white', context='notebook', palette='deep')"
      ],
      "execution_count": 1,
      "outputs": []
    },
    {
      "cell_type": "markdown",
      "metadata": {
        "id": "Wc9Hmd5MMefX"
      },
      "source": [
        "VERİLERİN BULUTA YÜKLENMESİ"
      ]
    },
    {
      "cell_type": "code",
      "metadata": {
        "colab": {
          "resources": {
            "http://localhost:8080/nbextensions/google.colab/files.js": {
              "data": "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",
              "ok": true,
              "headers": [
                [
                  "content-type",
                  "application/javascript"
                ]
              ],
              "status": 200,
              "status_text": ""
            }
          },
          "base_uri": "https://localhost:8080/",
          "height": 250
        },
        "id": "F0tQhXZJLgkv",
        "outputId": "71f5716f-23b1-4929-9acb-e2a4155d3ca5"
      },
      "source": [
        "from google.colab import files\n",
        "uploaded = files.upload()"
      ],
      "execution_count": 2,
      "outputs": [
        {
          "output_type": "display_data",
          "data": {
            "text/html": [
              "\n",
              "     <input type=\"file\" id=\"files-a9a540b5-01fc-473f-a945-c9da8158e0de\" name=\"files[]\" multiple disabled\n",
              "        style=\"border:none\" />\n",
              "     <output id=\"result-a9a540b5-01fc-473f-a945-c9da8158e0de\">\n",
              "      Upload widget is only available when the cell has been executed in the\n",
              "      current browser session. Please rerun this cell to enable.\n",
              "      </output>\n",
              "      <script src=\"/nbextensions/google.colab/files.js\"></script> "
            ],
            "text/plain": [
              "<IPython.core.display.HTML object>"
            ]
          },
          "metadata": {}
        },
        {
          "output_type": "stream",
          "name": "stdout",
          "text": [
            "Saving AB39_2019_binary_0_10.csv to AB39_2019_binary_0_10.csv\n",
            "Saving AB39_2019_binary_0_20.csv to AB39_2019_binary_0_20.csv\n",
            "Saving AB39_2020_binary_0_10.csv to AB39_2020_binary_0_10.csv\n",
            "Saving AB39_2020_binary_0_20.csv to AB39_2020_binary_0_20.csv\n",
            "Saving egitim_verisi_binary_0_10.csv to egitim_verisi_binary_0_10.csv\n",
            "Saving egitim_verisi_binary_0_20.csv to egitim_verisi_binary_0_20.csv\n"
          ]
        }
      ]
    },
    {
      "cell_type": "markdown",
      "metadata": {
        "id": "prlI0IB8Mj7_"
      },
      "source": [
        "# 0-10 CM VERİ SETİ"
      ]
    },
    {
      "cell_type": "markdown",
      "metadata": {
        "id": "33rNqOoCMyQm"
      },
      "source": [
        "EĞİTİM VERİ SETİNİN PANDAS VERİ ÇERÇEVESİNE DÖNÜŞTÜRÜLMESİ"
      ]
    },
    {
      "cell_type": "code",
      "metadata": {
        "colab": {
          "base_uri": "https://localhost:8080/",
          "height": 243
        },
        "id": "4lKyaMR4Ly9I",
        "outputId": "1db686d0-9b33-4b8c-a2bf-1e5d16558a36"
      },
      "source": [
        "data1 = pd.read_csv('egitim_verisi_binary_0_10.csv', delimiter=';')\n",
        "data1.head()"
      ],
      "execution_count": 3,
      "outputs": [
        {
          "output_type": "execute_result",
          "data": {
            "text/html": [
              "<div>\n",
              "<style scoped>\n",
              "    .dataframe tbody tr th:only-of-type {\n",
              "        vertical-align: middle;\n",
              "    }\n",
              "\n",
              "    .dataframe tbody tr th {\n",
              "        vertical-align: top;\n",
              "    }\n",
              "\n",
              "    .dataframe thead th {\n",
              "        text-align: right;\n",
              "    }\n",
              "</style>\n",
              "<table border=\"1\" class=\"dataframe\">\n",
              "  <thead>\n",
              "    <tr style=\"text-align: right;\">\n",
              "      <th></th>\n",
              "      <th>doy</th>\n",
              "      <th>sat_id</th>\n",
              "      <th>amplitude</th>\n",
              "      <th>first_epoch_sec</th>\n",
              "      <th>noe_15sec</th>\n",
              "      <th>min_elev_deg</th>\n",
              "      <th>elev_range_deg</th>\n",
              "      <th>mean_azim_deg</th>\n",
              "      <th>bgn_ratio</th>\n",
              "      <th>decision</th>\n",
              "      <th>est_sd_cm</th>\n",
              "      <th>insitu_sd_cm</th>\n",
              "      <th>abs_diff_cm</th>\n",
              "      <th>Unnamed: 13</th>\n",
              "      <th>Unnamed: 14</th>\n",
              "    </tr>\n",
              "  </thead>\n",
              "  <tbody>\n",
              "    <tr>\n",
              "      <th>0</th>\n",
              "      <td>1</td>\n",
              "      <td>1</td>\n",
              "      <td>9.8168</td>\n",
              "      <td>0</td>\n",
              "      <td>136</td>\n",
              "      <td>5.1417</td>\n",
              "      <td>14.4773</td>\n",
              "      <td>184.90530</td>\n",
              "      <td>3.6704</td>\n",
              "      <td>0</td>\n",
              "      <td>30.1</td>\n",
              "      <td>33.0</td>\n",
              "      <td>2.9</td>\n",
              "      <td>NaN</td>\n",
              "      <td>NaN</td>\n",
              "    </tr>\n",
              "    <tr>\n",
              "      <th>1</th>\n",
              "      <td>1</td>\n",
              "      <td>1</td>\n",
              "      <td>8.3507</td>\n",
              "      <td>69150</td>\n",
              "      <td>191</td>\n",
              "      <td>5.0222</td>\n",
              "      <td>19.7932</td>\n",
              "      <td>281.91365</td>\n",
              "      <td>3.8211</td>\n",
              "      <td>1</td>\n",
              "      <td>137.8</td>\n",
              "      <td>33.0</td>\n",
              "      <td>104.8</td>\n",
              "      <td>NaN</td>\n",
              "      <td>NaN</td>\n",
              "    </tr>\n",
              "    <tr>\n",
              "      <th>2</th>\n",
              "      <td>1</td>\n",
              "      <td>1</td>\n",
              "      <td>14.6639</td>\n",
              "      <td>85440</td>\n",
              "      <td>62</td>\n",
              "      <td>18.1467</td>\n",
              "      <td>6.7448</td>\n",
              "      <td>186.19400</td>\n",
              "      <td>5.4064</td>\n",
              "      <td>1</td>\n",
              "      <td>53.0</td>\n",
              "      <td>33.0</td>\n",
              "      <td>20.0</td>\n",
              "      <td>NaN</td>\n",
              "      <td>NaN</td>\n",
              "    </tr>\n",
              "    <tr>\n",
              "      <th>3</th>\n",
              "      <td>1</td>\n",
              "      <td>2</td>\n",
              "      <td>12.9838</td>\n",
              "      <td>36855</td>\n",
              "      <td>197</td>\n",
              "      <td>5.0455</td>\n",
              "      <td>19.7955</td>\n",
              "      <td>151.66815</td>\n",
              "      <td>4.3691</td>\n",
              "      <td>1</td>\n",
              "      <td>166.3</td>\n",
              "      <td>33.0</td>\n",
              "      <td>133.3</td>\n",
              "      <td>NaN</td>\n",
              "      <td>NaN</td>\n",
              "    </tr>\n",
              "    <tr>\n",
              "      <th>4</th>\n",
              "      <td>1</td>\n",
              "      <td>2</td>\n",
              "      <td>14.0578</td>\n",
              "      <td>51945</td>\n",
              "      <td>196</td>\n",
              "      <td>5.2323</td>\n",
              "      <td>19.7033</td>\n",
              "      <td>62.80000</td>\n",
              "      <td>3.9329</td>\n",
              "      <td>1</td>\n",
              "      <td>52.1</td>\n",
              "      <td>33.0</td>\n",
              "      <td>19.1</td>\n",
              "      <td>NaN</td>\n",
              "      <td>NaN</td>\n",
              "    </tr>\n",
              "  </tbody>\n",
              "</table>\n",
              "</div>"
            ],
            "text/plain": [
              "   doy  sat_id  amplitude  ...  abs_diff_cm  Unnamed: 13  Unnamed: 14\n",
              "0    1       1     9.8168  ...          2.9          NaN          NaN\n",
              "1    1       1     8.3507  ...        104.8          NaN          NaN\n",
              "2    1       1    14.6639  ...         20.0          NaN          NaN\n",
              "3    1       2    12.9838  ...        133.3          NaN          NaN\n",
              "4    1       2    14.0578  ...         19.1          NaN          NaN\n",
              "\n",
              "[5 rows x 15 columns]"
            ]
          },
          "metadata": {},
          "execution_count": 3
        }
      ]
    },
    {
      "cell_type": "markdown",
      "metadata": {
        "id": "W2NTt3KgM8Vm"
      },
      "source": [
        "VERİ SETİNDEKİ SINIFLARIN DAĞILIMI"
      ]
    },
    {
      "cell_type": "code",
      "metadata": {
        "colab": {
          "base_uri": "https://localhost:8080/",
          "height": 287
        },
        "id": "wOrTuholM64m",
        "outputId": "ac37fcc2-55d2-48f8-fbcd-f08a536dfd9e"
      },
      "source": [
        "ax = sns.countplot(x=\"decision\", data=data1)"
      ],
      "execution_count": 4,
      "outputs": [
        {
          "output_type": "display_data",
          "data": {
            "image/png": "[encoded data removed]",
            "text/plain": [
              "<Figure size 432x288 with 1 Axes>"
            ]
          },
          "metadata": {
            "needs_background": "light"
          }
        }
      ]
    },
    {
      "cell_type": "markdown",
      "metadata": {
        "id": "uezv4JcOND8P"
      },
      "source": [
        "EĞİTİM İÇİN KULLANILACAK SINIFLARIN SAYILARININ EŞİTLENMESİ (UNDERSAMPLING)"
      ]
    },
    {
      "cell_type": "code",
      "metadata": {
        "id": "tll38PcSNIWH"
      },
      "source": [
        "count_class_0, count_class_1 = data1.decision.value_counts()\n",
        "\n",
        "data_10 = data1[data1['decision'] == 0]\n",
        "data_11 = data1[data1['decision'] == 1]"
      ],
      "execution_count": 6,
      "outputs": []
    },
    {
      "cell_type": "code",
      "metadata": {
        "colab": {
          "base_uri": "https://localhost:8080/"
        },
        "id": "DCM3g5FwNPZ2",
        "outputId": "eeecb750-2715-4f2e-f762-9697195053cf"
      },
      "source": [
        "data_11.shape\n"
      ],
      "execution_count": 7,
      "outputs": [
        {
          "output_type": "execute_result",
          "data": {
            "text/plain": [
              "(115163, 15)"
            ]
          },
          "metadata": {},
          "execution_count": 7
        }
      ]
    },
    {
      "cell_type": "code",
      "metadata": {
        "colab": {
          "base_uri": "https://localhost:8080/"
        },
        "id": "rHT2vF66NR2G",
        "outputId": "82288777-fb78-41d9-dbe1-236a6f3e47c2"
      },
      "source": [
        "data_10_under = data_10.sample(count_class_1)\n",
        "data_11_under = data_11.sample(count_class_1)\n",
        "\n",
        "data1_test_under = pd.concat([data_10_under, data_11_under], axis=0)\n",
        "\n",
        "print('Random under-sampling:')\n",
        "print(data1_test_under.decision.value_counts())"
      ],
      "execution_count": 8,
      "outputs": [
        {
          "output_type": "stream",
          "name": "stdout",
          "text": [
            "Random under-sampling:\n",
            "1    40740\n",
            "0    40740\n",
            "Name: decision, dtype: int64\n"
          ]
        }
      ]
    },
    {
      "cell_type": "markdown",
      "metadata": {
        "id": "MYDp5djZNde2"
      },
      "source": [
        "BAĞIMLI VE BAĞIMSIZ DEĞİŞKENLERİ İÇEREN SÜTÜNLARIN SEÇİLMESİ"
      ]
    },
    {
      "cell_type": "code",
      "metadata": {
        "id": "XBqYzjjYNeG-"
      },
      "source": [
        "X = data1_test_under.iloc[:,0:8].values  # Independent variables\n",
        "y = data1_test_under['decision'].values  # Dependent variable"
      ],
      "execution_count": 9,
      "outputs": []
    },
    {
      "cell_type": "markdown",
      "metadata": {
        "id": "Aqe4D48VNjBR"
      },
      "source": [
        "DEĞİŞKEN SÜTÜNLARIN İSİMLERİ"
      ]
    },
    {
      "cell_type": "code",
      "metadata": {
        "colab": {
          "base_uri": "https://localhost:8080/"
        },
        "id": "xGcUFxRENmEH",
        "outputId": "2ccf2f1e-f0a8-41d0-cb67-f835f4cb9e7c"
      },
      "source": [
        "column_names = data1_test_under.iloc[:,0:8].columns\n",
        "column_names"
      ],
      "execution_count": 10,
      "outputs": [
        {
          "output_type": "execute_result",
          "data": {
            "text/plain": [
              "Index(['doy', 'sat_id', 'amplitude', 'first_epoch_sec', 'noe_15sec',\n",
              "       'min_elev_deg', 'elev_range_deg', 'mean_azim_deg'],\n",
              "      dtype='object')"
            ]
          },
          "metadata": {},
          "execution_count": 10
        }
      ]
    },
    {
      "cell_type": "markdown",
      "metadata": {
        "id": "kY4IIuvHNqHH"
      },
      "source": [
        "VERİ SETİNİN EĞİTİM VE TEST VERİLERİ OLARAK AYRILMASI (10 KATLI ÇAPRAZLAMA - %10 TEST - %90 EĞİTİM)"
      ]
    },
    {
      "cell_type": "code",
      "metadata": {
        "id": "8sjG9JWxNplH"
      },
      "source": [
        "from sklearn.model_selection import train_test_split\n",
        "X_train,X_test,y_train,y_test = train_test_split(X,y,test_size=0.1, shuffle=True)"
      ],
      "execution_count": 11,
      "outputs": []
    },
    {
      "cell_type": "markdown",
      "metadata": {
        "id": "LeUbRJDONzK-"
      },
      "source": [
        "2 AYRI TEST VERİSİ ÖRNEĞİ ÜZERİNE DENEME (STRATIFIED K-FOLD)"
      ]
    },
    {
      "cell_type": "code",
      "metadata": {
        "id": "YQJjtcnmN4sm"
      },
      "source": [
        "kfold = StratifiedKFold(n_splits=2)"
      ],
      "execution_count": 12,
      "outputs": []
    },
    {
      "cell_type": "markdown",
      "metadata": {
        "id": "aosSm2W3N-4n"
      },
      "source": [
        "SINIFLANDIRMA ALGORİTMALARININ KABA BİR ŞEKİLDE ÇALIŞTIRILIP DEĞERLENDİRİLMESİ"
      ]
    },
    {
      "cell_type": "code",
      "metadata": {
        "colab": {
          "base_uri": "https://localhost:8080/",
          "height": 357
        },
        "id": "D9BSFGMcOC8x",
        "outputId": "ca76164e-1077-45bc-fc42-b1417b60890d"
      },
      "source": [
        "random_state = 2\n",
        "classifiers = []\n",
        "classifiers.append(SVC(random_state=random_state))\n",
        "classifiers.append(AdaBoostClassifier(DecisionTreeClassifier(random_state=random_state),random_state=random_state,learning_rate=0.1))\n",
        "classifiers.append(RandomForestClassifier(random_state=random_state))\n",
        "classifiers.append(GradientBoostingClassifier(random_state=random_state))\n",
        "classifiers.append(MLPClassifier(random_state=random_state))\n",
        "classifiers.append(KNeighborsClassifier())\n",
        "classifiers.append(LogisticRegression(random_state = random_state))\n",
        "classifiers.append(LinearDiscriminantAnalysis())\n",
        "\n",
        "cv_results = []\n",
        "for classifier in classifiers :\n",
        "    cv_results.append(cross_val_score(classifier, X_train, y_train, scoring = \"accuracy\", cv = kfold, n_jobs=4))\n",
        "\n",
        "cv_means = []\n",
        "cv_std = []\n",
        "for cv_result in cv_results:\n",
        "    cv_means.append(cv_result.mean())\n",
        "    cv_std.append(cv_result.std())\n",
        "\n",
        "cv_res = pd.DataFrame({\"CrossValMeans\":cv_means,\"CrossValerrors\": cv_std,\"Algorithm\":[\"SVC\",\"AdaBoost\",\n",
        "\"RandomForest\",\"GradientBoosting\",\"MultipleLayerPerceptron\",\"KNeighboors\",\"LogisticRegression\",\"LinearDiscriminantAnalysis\"]})\n",
        "\n",
        "g = sns.barplot(\"CrossValMeans\",\"Algorithm\",data = cv_res, palette=\"hls\",orient = \"h\",**{'xerr':cv_std})\n",
        "g.set_xlabel(\"Mean Accuracy\")\n",
        "g = g.set_title(\"Cross validation scores\")"
      ],
      "execution_count": 13,
      "outputs": [
        {
          "output_type": "stream",
          "name": "stderr",
          "text": [
            "/usr/local/lib/python3.7/dist-packages/seaborn/_decorators.py:43: FutureWarning: Pass the following variables as keyword args: x, y. From version 0.12, the only valid positional argument will be `data`, and passing other arguments without an explicit keyword will result in an error or misinterpretation.\n",
            "  FutureWarning\n"
          ]
        },
        {
          "output_type": "display_data",
          "data": {
            "image/png": "[encoded data removed]",
            "text/plain": [
              "<Figure size 432x288 with 1 Axes>"
            ]
          },
          "metadata": {
            "needs_background": "light"
          }
        }
      ]
    },
    {
      "cell_type": "markdown",
      "metadata": {
        "id": "fTDg7reJPmfG"
      },
      "source": [
        "RANDOM FOREST ALGORİTMASI İLE MODELİN EĞİTİMİ "
      ]
    },
    {
      "cell_type": "code",
      "metadata": {
        "colab": {
          "base_uri": "https://localhost:8080/"
        },
        "id": "FX5uBYCDPscO",
        "outputId": "fa12feb5-fd5f-4297-f704-278310d3cd1b"
      },
      "source": [
        "RFC_best = RandomForestClassifier(max_features=3, n_estimators=300)\n",
        "\n",
        "RFC_best.fit(X_train,y_train)\n",
        "\n",
        "print(\"score train RFC: \",RFC_best.score(X_train,y_train))\n",
        "print(\"score test RFC: \",RFC_best.score(X_test,y_test))"
      ],
      "execution_count": 14,
      "outputs": [
        {
          "output_type": "stream",
          "name": "stdout",
          "text": [
            "score train RFC:  1.0\n",
            "score test RFC:  0.8711340206185567\n"
          ]
        }
      ]
    },
    {
      "cell_type": "markdown",
      "metadata": {
        "id": "idvKuChaPxS2"
      },
      "source": [
        "ADABOOST ALGORİTMASI İLE MODELİN EĞİTİMİ"
      ]
    },
    {
      "cell_type": "code",
      "metadata": {
        "colab": {
          "base_uri": "https://localhost:8080/"
        },
        "id": "7Fhc4AQ7PmLG",
        "outputId": "ab3780ad-45cd-49b2-d78e-0bd010bcd352"
      },
      "source": [
        "# Adaboost\n",
        "DTC = DecisionTreeClassifier()\n",
        "\n",
        "AdaC_best = AdaBoostClassifier(DTC, random_state=7, learning_rate= 0.0001, algorithm = 'SAMME', n_estimators = 1  )\n",
        "\n",
        "AdaC_best.fit(X_train,y_train)\n",
        "\n",
        "print(\"score train AdaC: \",AdaC_best.score(X_train,y_train))\n",
        "print(\"score test AdaC: \",AdaC_best.score(X_test,y_test))"
      ],
      "execution_count": 15,
      "outputs": [
        {
          "output_type": "stream",
          "name": "stdout",
          "text": [
            "score train AdaC:  1.0\n",
            "score test AdaC:  0.8386107020127639\n"
          ]
        }
      ]
    },
    {
      "cell_type": "markdown",
      "metadata": {
        "id": "TxC5oB_EQFpH"
      },
      "source": [
        "GRADIENT BOOSTING ALGORİTMASI İLE MODELİN EĞİTİMİ"
      ]
    },
    {
      "cell_type": "code",
      "metadata": {
        "colab": {
          "base_uri": "https://localhost:8080/"
        },
        "id": "mJgvqEV3QJ0O",
        "outputId": "d3b7383e-14af-48b4-926e-0c099e275110"
      },
      "source": [
        "GBC_best = GradientBoostingClassifier(n_estimators=300, learning_rate=0.1, max_features=0.3)\n",
        "\n",
        "GBC_best.fit(X_train,y_train)\n",
        "\n",
        "print(\"score train GBC: \",GBC_best.score(X_train,y_train))\n",
        "print(\"score test GBC: \",GBC_best.score(X_test,y_test))"
      ],
      "execution_count": 16,
      "outputs": [
        {
          "output_type": "stream",
          "name": "stdout",
          "text": [
            "score train GBC:  0.7776141384388807\n",
            "score test GBC:  0.7702503681885126\n"
          ]
        }
      ]
    },
    {
      "cell_type": "markdown",
      "metadata": {
        "id": "eQzxoO-tQR0G"
      },
      "source": [
        "ÖĞRENME EĞRİLERİNİN ÇİZDİRİLMESİ"
      ]
    },
    {
      "cell_type": "code",
      "metadata": {
        "colab": {
          "base_uri": "https://localhost:8080/",
          "height": 869
        },
        "id": "V5BHSHDuQUZ-",
        "outputId": "0dd0f423-4608-4626-9bad-5881539f69f6"
      },
      "source": [
        "def plot_learning_curve(estimator, title, X, y, ylim=None, cv=None,\n",
        "                        n_jobs=-1, train_sizes=np.linspace(.1, 1.0, 5)):\n",
        "    plt.figure()\n",
        "    plt.title(title)\n",
        "    if ylim is not None:\n",
        "        plt.ylim(*ylim)\n",
        "    plt.xlabel(\"Number of Training examples\")\n",
        "    plt.ylabel(\"Score\")\n",
        "    train_sizes, train_scores, test_scores = learning_curve(\n",
        "        estimator, X, y, cv=cv, n_jobs=n_jobs, train_sizes=train_sizes)\n",
        "    train_scores_mean = np.mean(train_scores, axis=1)\n",
        "    train_scores_std = np.std(train_scores, axis=1)\n",
        "    test_scores_mean = np.mean(test_scores, axis=1)\n",
        "    test_scores_std = np.std(test_scores, axis=1)\n",
        "    plt.grid()\n",
        "\n",
        "    plt.fill_between(train_sizes, train_scores_mean - train_scores_std,\n",
        "                     train_scores_mean + train_scores_std, alpha=0.1,\n",
        "                     color=\"r\")\n",
        "    plt.fill_between(train_sizes, test_scores_mean - test_scores_std,\n",
        "                     test_scores_mean + test_scores_std, alpha=0.1, color=\"b\")\n",
        "    plt.plot(train_sizes, train_scores_mean, 'o-', color=\"r\",\n",
        "             label=\"Training score\")\n",
        "    plt.plot(train_sizes, test_scores_mean, 'o-', color=\"b\",\n",
        "             label=\"Test score\")\n",
        "\n",
        "    plt.legend(loc=\"best\")\n",
        "    return plt\n",
        "\n",
        "g = plot_learning_curve(RFC_best,\"Random Forest Learning Curves\",X_train,y_train,cv=kfold)\n",
        "g = plot_learning_curve(AdaC_best,\"AdaBoost Learning Curves\",X_train,y_train,cv=kfold)\n",
        "g = plot_learning_curve(GBC_best,\"Gradient Boosting Learning Curves\",X_train,y_train,cv=kfold)"
      ],
      "execution_count": 18,
      "outputs": [
        {
          "output_type": "display_data",
          "data": {
            "image/png": "[encoded data removed]",
            "text/plain": [
              "<Figure size 432x288 with 1 Axes>"
            ]
          },
          "metadata": {
            "needs_background": "light"
          }
        },
        {
          "output_type": "display_data",
          "data": {
            "image/png": "[encoded data removed]",
            "text/plain": [
              "<Figure size 432x288 with 1 Axes>"
            ]
          },
          "metadata": {
            "needs_background": "light"
          }
        },
        {
          "output_type": "display_data",
          "data": {
            "image/png": "[encoded data removed]",
            "text/plain": [
              "<Figure size 432x288 with 1 Axes>"
            ]
          },
          "metadata": {
            "needs_background": "light"
          }
        }
      ]
    },
    {
      "cell_type": "markdown",
      "metadata": {
        "id": "UOhY50CYQvkW"
      },
      "source": [
        "ÖĞRENMEYE ETKİ EDEN DEĞİŞKENLERİN KISMİ AĞIRLIĞI"
      ]
    },
    {
      "cell_type": "code",
      "metadata": {
        "colab": {
          "base_uri": "https://localhost:8080/",
          "height": 584
        },
        "id": "nCH2DnYzQ0ht",
        "outputId": "772f609e-353a-41bc-f37b-807a6154eb8a"
      },
      "source": [
        "df_RFC=pd.DataFrame({'Feature Names':column_names, 'Relative Importance':RFC_best.feature_importances_})\n",
        "df_RFC.sort_values(by='Relative Importance', ascending=True, inplace=True)\n",
        "plt.barh(df_RFC['Feature Names'],df_RFC['Relative Importance'])\n",
        "plt.title('Random Forest Classification Feature Importance')\n",
        "plt.xlabel('Relative Importance')\n",
        "plt.ylabel('Features')\n",
        "plt.show()\n",
        "df_RFC"
      ],
      "execution_count": 20,
      "outputs": [
        {
          "output_type": "display_data",
          "data": {
            "image/png": "[encoded data removed]",
            "text/plain": [
              "<Figure size 432x288 with 1 Axes>"
            ]
          },
          "metadata": {
            "needs_background": "light"
          }
        },
        {
          "output_type": "execute_result",
          "data": {
            "text/html": [
              "<div>\n",
              "<style scoped>\n",
              "    .dataframe tbody tr th:only-of-type {\n",
              "        vertical-align: middle;\n",
              "    }\n",
              "\n",
              "    .dataframe tbody tr th {\n",
              "        vertical-align: top;\n",
              "    }\n",
              "\n",
              "    .dataframe thead th {\n",
              "        text-align: right;\n",
              "    }\n",
              "</style>\n",
              "<table border=\"1\" class=\"dataframe\">\n",
              "  <thead>\n",
              "    <tr style=\"text-align: right;\">\n",
              "      <th></th>\n",
              "      <th>Feature Names</th>\n",
              "      <th>Relative Importance</th>\n",
              "    </tr>\n",
              "  </thead>\n",
              "  <tbody>\n",
              "    <tr>\n",
              "      <th>1</th>\n",
              "      <td>sat_id</td>\n",
              "      <td>0.046316</td>\n",
              "    </tr>\n",
              "    <tr>\n",
              "      <th>5</th>\n",
              "      <td>min_elev_deg</td>\n",
              "      <td>0.092423</td>\n",
              "    </tr>\n",
              "    <tr>\n",
              "      <th>3</th>\n",
              "      <td>first_epoch_sec</td>\n",
              "      <td>0.108388</td>\n",
              "    </tr>\n",
              "    <tr>\n",
              "      <th>4</th>\n",
              "      <td>noe_15sec</td>\n",
              "      <td>0.116743</td>\n",
              "    </tr>\n",
              "    <tr>\n",
              "      <th>6</th>\n",
              "      <td>elev_range_deg</td>\n",
              "      <td>0.128024</td>\n",
              "    </tr>\n",
              "    <tr>\n",
              "      <th>0</th>\n",
              "      <td>doy</td>\n",
              "      <td>0.128414</td>\n",
              "    </tr>\n",
              "    <tr>\n",
              "      <th>2</th>\n",
              "      <td>amplitude</td>\n",
              "      <td>0.128939</td>\n",
              "    </tr>\n",
              "    <tr>\n",
              "      <th>7</th>\n",
              "      <td>mean_azim_deg</td>\n",
              "      <td>0.250752</td>\n",
              "    </tr>\n",
              "  </tbody>\n",
              "</table>\n",
              "</div>"
            ],
            "text/plain": [
              "     Feature Names  Relative Importance\n",
              "1           sat_id             0.046316\n",
              "5     min_elev_deg             0.092423\n",
              "3  first_epoch_sec             0.108388\n",
              "4        noe_15sec             0.116743\n",
              "6   elev_range_deg             0.128024\n",
              "0              doy             0.128414\n",
              "2        amplitude             0.128939\n",
              "7    mean_azim_deg             0.250752"
            ]
          },
          "metadata": {},
          "execution_count": 20
        }
      ]
    },
    {
      "cell_type": "code",
      "metadata": {
        "colab": {
          "base_uri": "https://localhost:8080/",
          "height": 584
        },
        "id": "U7oT3sH8S55m",
        "outputId": "3e1ec4f8-46e6-4f62-fabb-4c864bec821f"
      },
      "source": [
        "df_GBC=pd.DataFrame({'Feature Names':column_names, 'Relative Importance':GBC_best.feature_importances_})\n",
        "df_GBC.sort_values(by='Relative Importance', ascending=True, inplace=True)\n",
        "plt.barh(df_GBC['Feature Names'],df_GBC['Relative Importance'])\n",
        "plt.title('Gradient Boosting Classification Feature Importance')\n",
        "plt.xlabel('Relative Importance')\n",
        "plt.ylabel('Features')\n",
        "plt.show()\n",
        "df_GBC"
      ],
      "execution_count": 21,
      "outputs": [
        {
          "output_type": "display_data",
          "data": {
            "image/png": "[encoded data removed]",
            "text/plain": [
              "<Figure size 432x288 with 1 Axes>"
            ]
          },
          "metadata": {
            "needs_background": "light"
          }
        },
        {
          "output_type": "execute_result",
          "data": {
            "text/html": [
              "<div>\n",
              "<style scoped>\n",
              "    .dataframe tbody tr th:only-of-type {\n",
              "        vertical-align: middle;\n",
              "    }\n",
              "\n",
              "    .dataframe tbody tr th {\n",
              "        vertical-align: top;\n",
              "    }\n",
              "\n",
              "    .dataframe thead th {\n",
              "        text-align: right;\n",
              "    }\n",
              "</style>\n",
              "<table border=\"1\" class=\"dataframe\">\n",
              "  <thead>\n",
              "    <tr style=\"text-align: right;\">\n",
              "      <th></th>\n",
              "      <th>Feature Names</th>\n",
              "      <th>Relative Importance</th>\n",
              "    </tr>\n",
              "  </thead>\n",
              "  <tbody>\n",
              "    <tr>\n",
              "      <th>3</th>\n",
              "      <td>first_epoch_sec</td>\n",
              "      <td>0.018010</td>\n",
              "    </tr>\n",
              "    <tr>\n",
              "      <th>0</th>\n",
              "      <td>doy</td>\n",
              "      <td>0.043989</td>\n",
              "    </tr>\n",
              "    <tr>\n",
              "      <th>1</th>\n",
              "      <td>sat_id</td>\n",
              "      <td>0.053859</td>\n",
              "    </tr>\n",
              "    <tr>\n",
              "      <th>5</th>\n",
              "      <td>min_elev_deg</td>\n",
              "      <td>0.054523</td>\n",
              "    </tr>\n",
              "    <tr>\n",
              "      <th>6</th>\n",
              "      <td>elev_range_deg</td>\n",
              "      <td>0.128928</td>\n",
              "    </tr>\n",
              "    <tr>\n",
              "      <th>4</th>\n",
              "      <td>noe_15sec</td>\n",
              "      <td>0.138226</td>\n",
              "    </tr>\n",
              "    <tr>\n",
              "      <th>2</th>\n",
              "      <td>amplitude</td>\n",
              "      <td>0.181227</td>\n",
              "    </tr>\n",
              "    <tr>\n",
              "      <th>7</th>\n",
              "      <td>mean_azim_deg</td>\n",
              "      <td>0.381239</td>\n",
              "    </tr>\n",
              "  </tbody>\n",
              "</table>\n",
              "</div>"
            ],
            "text/plain": [
              "     Feature Names  Relative Importance\n",
              "3  first_epoch_sec             0.018010\n",
              "0              doy             0.043989\n",
              "1           sat_id             0.053859\n",
              "5     min_elev_deg             0.054523\n",
              "6   elev_range_deg             0.128928\n",
              "4        noe_15sec             0.138226\n",
              "2        amplitude             0.181227\n",
              "7    mean_azim_deg             0.381239"
            ]
          },
          "metadata": {},
          "execution_count": 21
        }
      ]
    },
    {
      "cell_type": "code",
      "metadata": {
        "colab": {
          "base_uri": "https://localhost:8080/",
          "height": 584
        },
        "id": "lHNM6dZOS_qW",
        "outputId": "54624871-a65f-4a14-f772-3309fb7da1d4"
      },
      "source": [
        "df_AdaC=pd.DataFrame({'Feature Names':column_names, 'Relative Importance':AdaC_best.feature_importances_})\n",
        "df_AdaC.sort_values(by='Relative Importance', ascending=True, inplace=True)\n",
        "plt.barh(df_AdaC['Feature Names'],df_AdaC['Relative Importance'])\n",
        "plt.title('AdaBoost Classification Feature Importance')\n",
        "plt.xlabel('Relative Importance')\n",
        "plt.ylabel('Features')\n",
        "plt.show()\n",
        "df_AdaC"
      ],
      "execution_count": 22,
      "outputs": [
        {
          "output_type": "display_data",
          "data": {
            "image/png": "[encoded data removed]",
            "text/plain": [
              "<Figure size 432x288 with 1 Axes>"
            ]
          },
          "metadata": {
            "needs_background": "light"
          }
        },
        {
          "output_type": "execute_result",
          "data": {
            "text/html": [
              "<div>\n",
              "<style scoped>\n",
              "    .dataframe tbody tr th:only-of-type {\n",
              "        vertical-align: middle;\n",
              "    }\n",
              "\n",
              "    .dataframe tbody tr th {\n",
              "        vertical-align: top;\n",
              "    }\n",
              "\n",
              "    .dataframe thead th {\n",
              "        text-align: right;\n",
              "    }\n",
              "</style>\n",
              "<table border=\"1\" class=\"dataframe\">\n",
              "  <thead>\n",
              "    <tr style=\"text-align: right;\">\n",
              "      <th></th>\n",
              "      <th>Feature Names</th>\n",
              "      <th>Relative Importance</th>\n",
              "    </tr>\n",
              "  </thead>\n",
              "  <tbody>\n",
              "    <tr>\n",
              "      <th>1</th>\n",
              "      <td>sat_id</td>\n",
              "      <td>0.029578</td>\n",
              "    </tr>\n",
              "    <tr>\n",
              "      <th>5</th>\n",
              "      <td>min_elev_deg</td>\n",
              "      <td>0.068060</td>\n",
              "    </tr>\n",
              "    <tr>\n",
              "      <th>2</th>\n",
              "      <td>amplitude</td>\n",
              "      <td>0.094732</td>\n",
              "    </tr>\n",
              "    <tr>\n",
              "      <th>4</th>\n",
              "      <td>noe_15sec</td>\n",
              "      <td>0.095016</td>\n",
              "    </tr>\n",
              "    <tr>\n",
              "      <th>6</th>\n",
              "      <td>elev_range_deg</td>\n",
              "      <td>0.126520</td>\n",
              "    </tr>\n",
              "    <tr>\n",
              "      <th>3</th>\n",
              "      <td>first_epoch_sec</td>\n",
              "      <td>0.128657</td>\n",
              "    </tr>\n",
              "    <tr>\n",
              "      <th>0</th>\n",
              "      <td>doy</td>\n",
              "      <td>0.152064</td>\n",
              "    </tr>\n",
              "    <tr>\n",
              "      <th>7</th>\n",
              "      <td>mean_azim_deg</td>\n",
              "      <td>0.305373</td>\n",
              "    </tr>\n",
              "  </tbody>\n",
              "</table>\n",
              "</div>"
            ],
            "text/plain": [
              "     Feature Names  Relative Importance\n",
              "1           sat_id             0.029578\n",
              "5     min_elev_deg             0.068060\n",
              "2        amplitude             0.094732\n",
              "4        noe_15sec             0.095016\n",
              "6   elev_range_deg             0.126520\n",
              "3  first_epoch_sec             0.128657\n",
              "0              doy             0.152064\n",
              "7    mean_azim_deg             0.305373"
            ]
          },
          "metadata": {},
          "execution_count": 22
        }
      ]
    },
    {
      "cell_type": "markdown",
      "metadata": {
        "id": "pzc72E8OTDS-"
      },
      "source": [
        "# DOĞRULAMA ÇALIŞMALARI\n",
        "\n",
        "## 2019 VERİLERİ"
      ]
    },
    {
      "cell_type": "markdown",
      "metadata": {
        "id": "p6d4jC-WTOAl"
      },
      "source": [
        "DOĞRULAMA VERİ SETİNİN (2019) YÜKLENMESİ"
      ]
    },
    {
      "cell_type": "code",
      "metadata": {
        "colab": {
          "base_uri": "https://localhost:8080/",
          "height": 243
        },
        "id": "KOwLMh5_TM9H",
        "outputId": "4f5b2e71-2507-4e7d-ca93-86c16ee2df01"
      },
      "source": [
        "val_19 = pd.read_csv('AB39_2019_binary_0_10.csv', delimiter=';')\n",
        "val_19.head()"
      ],
      "execution_count": 23,
      "outputs": [
        {
          "output_type": "execute_result",
          "data": {
            "text/html": [
              "<div>\n",
              "<style scoped>\n",
              "    .dataframe tbody tr th:only-of-type {\n",
              "        vertical-align: middle;\n",
              "    }\n",
              "\n",
              "    .dataframe tbody tr th {\n",
              "        vertical-align: top;\n",
              "    }\n",
              "\n",
              "    .dataframe thead th {\n",
              "        text-align: right;\n",
              "    }\n",
              "</style>\n",
              "<table border=\"1\" class=\"dataframe\">\n",
              "  <thead>\n",
              "    <tr style=\"text-align: right;\">\n",
              "      <th></th>\n",
              "      <th>doy</th>\n",
              "      <th>sat_id</th>\n",
              "      <th>amplitude</th>\n",
              "      <th>first_epoch_sec</th>\n",
              "      <th>noe_15sec</th>\n",
              "      <th>min_elev_deg</th>\n",
              "      <th>elev_range_deg</th>\n",
              "      <th>mean_azim_deg</th>\n",
              "      <th>bgn_ratio</th>\n",
              "      <th>decision</th>\n",
              "      <th>est_sd_cm</th>\n",
              "      <th>insitu_sd_cm</th>\n",
              "      <th>abs_diff_cm</th>\n",
              "      <th>Unnamed: 13</th>\n",
              "      <th>Unnamed: 14</th>\n",
              "    </tr>\n",
              "  </thead>\n",
              "  <tbody>\n",
              "    <tr>\n",
              "      <th>0</th>\n",
              "      <td>1</td>\n",
              "      <td>1</td>\n",
              "      <td>9.8446</td>\n",
              "      <td>11820</td>\n",
              "      <td>285</td>\n",
              "      <td>5.6337</td>\n",
              "      <td>19.3187</td>\n",
              "      <td>69.88450</td>\n",
              "      <td>3.0682</td>\n",
              "      <td>0</td>\n",
              "      <td>31.7</td>\n",
              "      <td>40.6</td>\n",
              "      <td>8.9</td>\n",
              "      <td>NaN</td>\n",
              "      <td>NaN</td>\n",
              "    </tr>\n",
              "    <tr>\n",
              "      <th>1</th>\n",
              "      <td>1</td>\n",
              "      <td>1</td>\n",
              "      <td>8.3947</td>\n",
              "      <td>16095</td>\n",
              "      <td>290</td>\n",
              "      <td>5.2304</td>\n",
              "      <td>19.7591</td>\n",
              "      <td>33.95785</td>\n",
              "      <td>3.4108</td>\n",
              "      <td>1</td>\n",
              "      <td>51.3</td>\n",
              "      <td>40.6</td>\n",
              "      <td>10.7</td>\n",
              "      <td>NaN</td>\n",
              "      <td>NaN</td>\n",
              "    </tr>\n",
              "    <tr>\n",
              "      <th>2</th>\n",
              "      <td>1</td>\n",
              "      <td>2</td>\n",
              "      <td>4.9522</td>\n",
              "      <td>0</td>\n",
              "      <td>27</td>\n",
              "      <td>5.1738</td>\n",
              "      <td>2.3252</td>\n",
              "      <td>258.44525</td>\n",
              "      <td>2.5602</td>\n",
              "      <td>1</td>\n",
              "      <td>-232.5</td>\n",
              "      <td>40.6</td>\n",
              "      <td>273.1</td>\n",
              "      <td>NaN</td>\n",
              "      <td>NaN</td>\n",
              "    </tr>\n",
              "    <tr>\n",
              "      <th>3</th>\n",
              "      <td>1</td>\n",
              "      <td>2</td>\n",
              "      <td>7.9697</td>\n",
              "      <td>22860</td>\n",
              "      <td>191</td>\n",
              "      <td>5.1032</td>\n",
              "      <td>19.7352</td>\n",
              "      <td>153.60095</td>\n",
              "      <td>3.1235</td>\n",
              "      <td>0</td>\n",
              "      <td>44.9</td>\n",
              "      <td>40.6</td>\n",
              "      <td>4.3</td>\n",
              "      <td>NaN</td>\n",
              "      <td>NaN</td>\n",
              "    </tr>\n",
              "    <tr>\n",
              "      <th>4</th>\n",
              "      <td>1</td>\n",
              "      <td>2</td>\n",
              "      <td>9.7146</td>\n",
              "      <td>38250</td>\n",
              "      <td>127</td>\n",
              "      <td>12.2833</td>\n",
              "      <td>12.6174</td>\n",
              "      <td>63.67900</td>\n",
              "      <td>2.7221</td>\n",
              "      <td>1</td>\n",
              "      <td>62.0</td>\n",
              "      <td>40.6</td>\n",
              "      <td>21.4</td>\n",
              "      <td>NaN</td>\n",
              "      <td>NaN</td>\n",
              "    </tr>\n",
              "  </tbody>\n",
              "</table>\n",
              "</div>"
            ],
            "text/plain": [
              "   doy  sat_id  amplitude  ...  abs_diff_cm  Unnamed: 13  Unnamed: 14\n",
              "0    1       1     9.8446  ...          8.9          NaN          NaN\n",
              "1    1       1     8.3947  ...         10.7          NaN          NaN\n",
              "2    1       2     4.9522  ...        273.1          NaN          NaN\n",
              "3    1       2     7.9697  ...          4.3          NaN          NaN\n",
              "4    1       2     9.7146  ...         21.4          NaN          NaN\n",
              "\n",
              "[5 rows x 15 columns]"
            ]
          },
          "metadata": {},
          "execution_count": 23
        }
      ]
    },
    {
      "cell_type": "code",
      "metadata": {
        "colab": {
          "base_uri": "https://localhost:8080/"
        },
        "id": "0-XuWa8ETa92",
        "outputId": "e4efc5fa-45fb-4c63-abf7-a7bcfcbc86df"
      },
      "source": [
        "val_19.shape"
      ],
      "execution_count": 24,
      "outputs": [
        {
          "output_type": "execute_result",
          "data": {
            "text/plain": [
              "(38700, 15)"
            ]
          },
          "metadata": {},
          "execution_count": 24
        }
      ]
    },
    {
      "cell_type": "code",
      "metadata": {
        "colab": {
          "base_uri": "https://localhost:8080/",
          "height": 285
        },
        "id": "cZaWou-ATdi-",
        "outputId": "5b0d23d7-c0d8-420f-df26-b512233faba7"
      },
      "source": [
        "ax = sns.countplot(x=\"decision\", data=val_19)"
      ],
      "execution_count": 25,
      "outputs": [
        {
          "output_type": "display_data",
          "data": {
            "image/png": "[encoded data removed]",
            "text/plain": [
              "<Figure size 432x288 with 1 Axes>"
            ]
          },
          "metadata": {
            "needs_background": "light"
          }
        }
      ]
    },
    {
      "cell_type": "markdown",
      "metadata": {
        "id": "tg0UbRPrTiH9"
      },
      "source": [
        "BAĞIMLI VE BAĞIMSIZ DEĞİŞKENLERİN SEÇİLMESİ"
      ]
    },
    {
      "cell_type": "code",
      "metadata": {
        "id": "xvjEcCfbTfvl"
      },
      "source": [
        "X_val19 = val_19.iloc[:,0:8].values  # Independent variables\n",
        "y_val19 = val_19['decision'].values  # Dependent variable"
      ],
      "execution_count": 26,
      "outputs": []
    },
    {
      "cell_type": "markdown",
      "metadata": {
        "id": "wt3V5ChTTohH"
      },
      "source": [
        "RANDOM FOREST ALGORİTMASI İLE SINIFLANDIRMA DOĞRULAMASI\n"
      ]
    },
    {
      "cell_type": "code",
      "metadata": {
        "id": "sJooKzlJTtiu"
      },
      "source": [
        "y_predict_RFC = RFC_best.predict(X_val19)"
      ],
      "execution_count": 28,
      "outputs": []
    },
    {
      "cell_type": "code",
      "metadata": {
        "colab": {
          "base_uri": "https://localhost:8080/",
          "height": 556
        },
        "id": "dhGV5W58Tysw",
        "outputId": "8cbc2eb9-150a-4043-959f-d1c015484a3a"
      },
      "source": [
        "print(confusion_matrix(y_val19, y_predict_RFC))\n",
        "print(classification_report(y_val19, y_predict_RFC)) \n",
        "\n",
        "df_cm_RFC= pd.DataFrame(confusion_matrix(y_val19, y_predict_RFC), index = [i for i in [\"Good\",  'Bad']],\n",
        "                  columns = [i for i in [\"Good\",'Bad']])\n",
        "plt.figure(figsize = (5,5))\n",
        "plt.title('Confusion Matrix (Random Forest Classifier) - 2019 Validation Data Set')\n",
        "sns.heatmap(df_cm_RFC, annot = True, fmt='g', cmap='Blues')"
      ],
      "execution_count": 29,
      "outputs": [
        {
          "output_type": "stream",
          "name": "stdout",
          "text": [
            "[[ 7317  3720]\n",
            " [ 4418 23245]]\n",
            "              precision    recall  f1-score   support\n",
            "\n",
            "           0       0.62      0.66      0.64     11037\n",
            "           1       0.86      0.84      0.85     27663\n",
            "\n",
            "    accuracy                           0.79     38700\n",
            "   macro avg       0.74      0.75      0.75     38700\n",
            "weighted avg       0.79      0.79      0.79     38700\n",
            "\n"
          ]
        },
        {
          "output_type": "execute_result",
          "data": {
            "text/plain": [
              "<matplotlib.axes._subplots.AxesSubplot at 0x7f67214d0a50>"
            ]
          },
          "metadata": {},
          "execution_count": 29
        },
        {
          "output_type": "display_data",
          "data": {
            "image/png": "[encoded data removed]",
            "text/plain": [
              "<Figure size 360x360 with 2 Axes>"
            ]
          },
          "metadata": {
            "needs_background": "light"
          }
        }
      ]
    },
    {
      "cell_type": "code",
      "metadata": {
        "colab": {
          "base_uri": "https://localhost:8080/",
          "height": 301
        },
        "id": "nkHPIAe5UAjW",
        "outputId": "862401b9-2684-4dbc-f1a1-a9b796c8ea5d"
      },
      "source": [
        "from sklearn.metrics import roc_curve\n",
        "fpr, tpr, thresholds = roc_curve(y_val19, y_predict_RFC)\n",
        "plt.plot([0,1],[0,1],'k--')\n",
        "plt.plot(fpr,tpr, label='Random Forest Classifier')\n",
        "plt.xlabel('False Positive Rate')\n",
        "plt.ylabel('True Positive Rate')\n",
        "plt.title('Random Forest Classifier ROC curve - 2019 Validation Data Set ')\n",
        "plt.show()"
      ],
      "execution_count": 31,
      "outputs": [
        {
          "output_type": "display_data",
          "data": {
            "image/png": "[encoded data removed]",
            "text/plain": [
              "<Figure size 432x288 with 1 Axes>"
            ]
          },
          "metadata": {
            "needs_background": "light"
          }
        }
      ]
    },
    {
      "cell_type": "code",
      "metadata": {
        "colab": {
          "base_uri": "https://localhost:8080/"
        },
        "id": "VSL826n5UIte",
        "outputId": "544101ea-fcca-4970-e70d-981f6f819d44"
      },
      "source": [
        "from sklearn.metrics import roc_auc_score\n",
        "print(\"Area Under Curve: \", roc_auc_score(y_val19, y_predict_RFC))"
      ],
      "execution_count": 33,
      "outputs": [
        {
          "output_type": "stream",
          "name": "stdout",
          "text": [
            "Area Under Curve:  0.7516219880016913\n"
          ]
        }
      ]
    },
    {
      "cell_type": "markdown",
      "metadata": {
        "id": "HaRtrKCvUeMV"
      },
      "source": [
        "GRADIENT BOOSTING ALGORİTMASI İLE SINIFLANDIRMA DOĞRULAMASI"
      ]
    },
    {
      "cell_type": "code",
      "metadata": {
        "id": "_dPkpccwUdnd"
      },
      "source": [
        "y_predict_GBC = GBC_best.predict(X_val19)"
      ],
      "execution_count": 34,
      "outputs": []
    },
    {
      "cell_type": "code",
      "metadata": {
        "colab": {
          "base_uri": "https://localhost:8080/",
          "height": 556
        },
        "id": "3hVAeQgiUjh2",
        "outputId": "472be18e-4813-41d2-b7a9-ffe3fcc40abd"
      },
      "source": [
        "print(confusion_matrix(y_val19, y_predict_GBC))\n",
        "print(classification_report(y_val19, y_predict_GBC)) \n",
        "\n",
        "df_cm_GBC= pd.DataFrame(confusion_matrix(y_val19, y_predict_GBC), index = [i for i in [\"Good\",  'Bad']],\n",
        "                  columns = [i for i in [\"Good\",'Bad']])\n",
        "plt.figure(figsize = (5,5))\n",
        "plt.title('Confusion Matrix (Gradient Boosting Classifier) - 2019 Validation Data Set')\n",
        "sns.heatmap(df_cm_GBC, annot = True, fmt='g', cmap='Blues')"
      ],
      "execution_count": 35,
      "outputs": [
        {
          "output_type": "stream",
          "name": "stdout",
          "text": [
            "[[ 7912  3125]\n",
            " [ 5381 22282]]\n",
            "              precision    recall  f1-score   support\n",
            "\n",
            "           0       0.60      0.72      0.65     11037\n",
            "           1       0.88      0.81      0.84     27663\n",
            "\n",
            "    accuracy                           0.78     38700\n",
            "   macro avg       0.74      0.76      0.75     38700\n",
            "weighted avg       0.80      0.78      0.79     38700\n",
            "\n"
          ]
        },
        {
          "output_type": "execute_result",
          "data": {
            "text/plain": [
              "<matplotlib.axes._subplots.AxesSubplot at 0x7f672151e490>"
            ]
          },
          "metadata": {},
          "execution_count": 35
        },
        {
          "output_type": "display_data",
          "data": {
            "image/png": "[encoded data removed]",
            "text/plain": [
              "<Figure size 360x360 with 2 Axes>"
            ]
          },
          "metadata": {
            "needs_background": "light"
          }
        }
      ]
    },
    {
      "cell_type": "code",
      "metadata": {
        "colab": {
          "base_uri": "https://localhost:8080/",
          "height": 301
        },
        "id": "IiajONsVUuW-",
        "outputId": "54d28b13-dd3a-40c1-97ad-265b36213ad2"
      },
      "source": [
        "from sklearn.metrics import roc_curve\n",
        "fpr, tpr, thresholds = roc_curve(y_val19, y_predict_GBC)\n",
        "plt.plot([0,1],[0,1],'k--')\n",
        "plt.plot(fpr,tpr, label='Gradient Boosting Classifier')\n",
        "plt.xlabel('False Positive Rate')\n",
        "plt.ylabel('True Positive Rate')\n",
        "plt.title('Gradient Boosting Classifier ROC curve - 2019 Validation Data Set ')\n",
        "plt.show()"
      ],
      "execution_count": 37,
      "outputs": [
        {
          "output_type": "display_data",
          "data": {
            "image/png": "[encoded data removed]",
            "text/plain": [
              "<Figure size 432x288 with 1 Axes>"
            ]
          },
          "metadata": {
            "needs_background": "light"
          }
        }
      ]
    },
    {
      "cell_type": "code",
      "metadata": {
        "colab": {
          "base_uri": "https://localhost:8080/"
        },
        "id": "YFRZiNPUU1gA",
        "outputId": "4172890b-43a8-4c1c-ef83-e41b8bc8b942"
      },
      "source": [
        "print(\"Area Under Curve: \",roc_auc_score(y_val19, y_predict_GBC))"
      ],
      "execution_count": 38,
      "outputs": [
        {
          "output_type": "stream",
          "name": "stdout",
          "text": [
            "Area Under Curve:  0.7611708551739048\n"
          ]
        }
      ]
    },
    {
      "cell_type": "markdown",
      "metadata": {
        "id": "R0MozdjpU_lu"
      },
      "source": [
        "ADABOOST ALGORİTMASI İLE SINIFLANDIRMA DOĞRULAMASI"
      ]
    },
    {
      "cell_type": "code",
      "metadata": {
        "id": "A07--HlTVC3G"
      },
      "source": [
        "y_predict_AdaC = AdaC_best.predict(X_val19)"
      ],
      "execution_count": 39,
      "outputs": []
    },
    {
      "cell_type": "code",
      "metadata": {
        "colab": {
          "base_uri": "https://localhost:8080/",
          "height": 556
        },
        "id": "Dxf0exEsVHFt",
        "outputId": "5d8f9e82-b1b7-4ad0-99b5-da10b0f2e9dc"
      },
      "source": [
        "print(confusion_matrix(y_val19, y_predict_AdaC))\n",
        "print(classification_report(y_val19, y_predict_AdaC)) \n",
        "\n",
        "df_cm_AdaC= pd.DataFrame(confusion_matrix(y_val19, y_predict_AdaC), index = [i for i in [\"Good\",  'Bad']],\n",
        "                  columns = [i for i in [\"Good\",'Bad']])\n",
        "plt.figure(figsize = (5,5))\n",
        "plt.title('Confusion Matrix (AdaBoost Classifier) - 2019 Validation Data Set ')\n",
        "sns.heatmap(df_cm_AdaC, annot = True, fmt='g', cmap='Blues')"
      ],
      "execution_count": 42,
      "outputs": [
        {
          "output_type": "stream",
          "name": "stdout",
          "text": [
            "[[ 6800  4237]\n",
            " [ 6794 20869]]\n",
            "              precision    recall  f1-score   support\n",
            "\n",
            "           0       0.50      0.62      0.55     11037\n",
            "           1       0.83      0.75      0.79     27663\n",
            "\n",
            "    accuracy                           0.71     38700\n",
            "   macro avg       0.67      0.69      0.67     38700\n",
            "weighted avg       0.74      0.71      0.72     38700\n",
            "\n"
          ]
        },
        {
          "output_type": "execute_result",
          "data": {
            "text/plain": [
              "<matplotlib.axes._subplots.AxesSubplot at 0x7f6723632090>"
            ]
          },
          "metadata": {},
          "execution_count": 42
        },
        {
          "output_type": "display_data",
          "data": {
            "image/png": "[encoded data removed]",
            "text/plain": [
              "<Figure size 360x360 with 2 Axes>"
            ]
          },
          "metadata": {
            "needs_background": "light"
          }
        }
      ]
    },
    {
      "cell_type": "code",
      "metadata": {
        "colab": {
          "base_uri": "https://localhost:8080/",
          "height": 301
        },
        "id": "2pO_LGAcVbNP",
        "outputId": "02018eab-4bc8-44be-bf47-3561b8dd1cb7"
      },
      "source": [
        "from sklearn.metrics import roc_curve\n",
        "fpr, tpr, thresholds = roc_curve(y_val19, y_predict_AdaC)\n",
        "plt.plot([0,1],[0,1],'k--')\n",
        "plt.plot(fpr,tpr, label='AdaBoost Classifier')\n",
        "plt.xlabel('False Positive Rate')\n",
        "plt.ylabel('True Positive Rate')\n",
        "plt.title('AdaBoost Classifier ROC curve - 2019 Validation Data Set ')\n",
        "plt.show()"
      ],
      "execution_count": 44,
      "outputs": [
        {
          "output_type": "display_data",
          "data": {
            "image/png": "[encoded data removed]",
            "text/plain": [
              "<Figure size 432x288 with 1 Axes>"
            ]
          },
          "metadata": {
            "needs_background": "light"
          }
        }
      ]
    },
    {
      "cell_type": "code",
      "metadata": {
        "colab": {
          "base_uri": "https://localhost:8080/"
        },
        "id": "5x38wqUsVh3m",
        "outputId": "174e1b1f-4e25-4fb4-8f88-92d203f72eeb"
      },
      "source": [
        "print(\"Area Under Curve: \",roc_auc_score(y_val19, y_predict_AdaC))"
      ],
      "execution_count": 45,
      "outputs": [
        {
          "output_type": "stream",
          "name": "stdout",
          "text": [
            "Area Under Curve:  0.6852553178655105\n"
          ]
        }
      ]
    },
    {
      "cell_type": "markdown",
      "metadata": {
        "id": "lCeW7J1oVs8V"
      },
      "source": [
        "SINIFLANDIRILMA SONUÇLARININ EXCEL'E AKTARIMI"
      ]
    },
    {
      "cell_type": "code",
      "metadata": {
        "colab": {
          "base_uri": "https://localhost:8080/",
          "height": 243
        },
        "id": "3Z-48AxNVxQF",
        "outputId": "715889da-e1de-4d78-b087-6cc42d6934dd"
      },
      "source": [
        "val_19['predicted_decision_RF'] = y_predict_RFC.tolist()\n",
        "val_19['predicted_decision_GB'] = y_predict_GBC.tolist()\n",
        "val_19['predicted_decision_Ada'] = y_predict_AdaC.tolist()\n",
        "val_19.head()"
      ],
      "execution_count": 46,
      "outputs": [
        {
          "output_type": "execute_result",
          "data": {
            "text/html": [
              "<div>\n",
              "<style scoped>\n",
              "    .dataframe tbody tr th:only-of-type {\n",
              "        vertical-align: middle;\n",
              "    }\n",
              "\n",
              "    .dataframe tbody tr th {\n",
              "        vertical-align: top;\n",
              "    }\n",
              "\n",
              "    .dataframe thead th {\n",
              "        text-align: right;\n",
              "    }\n",
              "</style>\n",
              "<table border=\"1\" class=\"dataframe\">\n",
              "  <thead>\n",
              "    <tr style=\"text-align: right;\">\n",
              "      <th></th>\n",
              "      <th>doy</th>\n",
              "      <th>sat_id</th>\n",
              "      <th>amplitude</th>\n",
              "      <th>first_epoch_sec</th>\n",
              "      <th>noe_15sec</th>\n",
              "      <th>min_elev_deg</th>\n",
              "      <th>elev_range_deg</th>\n",
              "      <th>mean_azim_deg</th>\n",
              "      <th>bgn_ratio</th>\n",
              "      <th>decision</th>\n",
              "      <th>est_sd_cm</th>\n",
              "      <th>insitu_sd_cm</th>\n",
              "      <th>abs_diff_cm</th>\n",
              "      <th>Unnamed: 13</th>\n",
              "      <th>Unnamed: 14</th>\n",
              "      <th>predicted_decision_RF</th>\n",
              "      <th>predicted_decision_GB</th>\n",
              "      <th>predicted_decision_Ada</th>\n",
              "    </tr>\n",
              "  </thead>\n",
              "  <tbody>\n",
              "    <tr>\n",
              "      <th>0</th>\n",
              "      <td>1</td>\n",
              "      <td>1</td>\n",
              "      <td>9.8446</td>\n",
              "      <td>11820</td>\n",
              "      <td>285</td>\n",
              "      <td>5.6337</td>\n",
              "      <td>19.3187</td>\n",
              "      <td>69.88450</td>\n",
              "      <td>3.0682</td>\n",
              "      <td>0</td>\n",
              "      <td>31.7</td>\n",
              "      <td>40.6</td>\n",
              "      <td>8.9</td>\n",
              "      <td>NaN</td>\n",
              "      <td>NaN</td>\n",
              "      <td>1</td>\n",
              "      <td>0</td>\n",
              "      <td>0</td>\n",
              "    </tr>\n",
              "    <tr>\n",
              "      <th>1</th>\n",
              "      <td>1</td>\n",
              "      <td>1</td>\n",
              "      <td>8.3947</td>\n",
              "      <td>16095</td>\n",
              "      <td>290</td>\n",
              "      <td>5.2304</td>\n",
              "      <td>19.7591</td>\n",
              "      <td>33.95785</td>\n",
              "      <td>3.4108</td>\n",
              "      <td>1</td>\n",
              "      <td>51.3</td>\n",
              "      <td>40.6</td>\n",
              "      <td>10.7</td>\n",
              "      <td>NaN</td>\n",
              "      <td>NaN</td>\n",
              "      <td>0</td>\n",
              "      <td>0</td>\n",
              "      <td>0</td>\n",
              "    </tr>\n",
              "    <tr>\n",
              "      <th>2</th>\n",
              "      <td>1</td>\n",
              "      <td>2</td>\n",
              "      <td>4.9522</td>\n",
              "      <td>0</td>\n",
              "      <td>27</td>\n",
              "      <td>5.1738</td>\n",
              "      <td>2.3252</td>\n",
              "      <td>258.44525</td>\n",
              "      <td>2.5602</td>\n",
              "      <td>1</td>\n",
              "      <td>-232.5</td>\n",
              "      <td>40.6</td>\n",
              "      <td>273.1</td>\n",
              "      <td>NaN</td>\n",
              "      <td>NaN</td>\n",
              "      <td>1</td>\n",
              "      <td>1</td>\n",
              "      <td>1</td>\n",
              "    </tr>\n",
              "    <tr>\n",
              "      <th>3</th>\n",
              "      <td>1</td>\n",
              "      <td>2</td>\n",
              "      <td>7.9697</td>\n",
              "      <td>22860</td>\n",
              "      <td>191</td>\n",
              "      <td>5.1032</td>\n",
              "      <td>19.7352</td>\n",
              "      <td>153.60095</td>\n",
              "      <td>3.1235</td>\n",
              "      <td>0</td>\n",
              "      <td>44.9</td>\n",
              "      <td>40.6</td>\n",
              "      <td>4.3</td>\n",
              "      <td>NaN</td>\n",
              "      <td>NaN</td>\n",
              "      <td>1</td>\n",
              "      <td>1</td>\n",
              "      <td>1</td>\n",
              "    </tr>\n",
              "    <tr>\n",
              "      <th>4</th>\n",
              "      <td>1</td>\n",
              "      <td>2</td>\n",
              "      <td>9.7146</td>\n",
              "      <td>38250</td>\n",
              "      <td>127</td>\n",
              "      <td>12.2833</td>\n",
              "      <td>12.6174</td>\n",
              "      <td>63.67900</td>\n",
              "      <td>2.7221</td>\n",
              "      <td>1</td>\n",
              "      <td>62.0</td>\n",
              "      <td>40.6</td>\n",
              "      <td>21.4</td>\n",
              "      <td>NaN</td>\n",
              "      <td>NaN</td>\n",
              "      <td>1</td>\n",
              "      <td>1</td>\n",
              "      <td>0</td>\n",
              "    </tr>\n",
              "  </tbody>\n",
              "</table>\n",
              "</div>"
            ],
            "text/plain": [
              "   doy  sat_id  ...  predicted_decision_GB  predicted_decision_Ada\n",
              "0    1       1  ...                      0                       0\n",
              "1    1       1  ...                      0                       0\n",
              "2    1       2  ...                      1                       1\n",
              "3    1       2  ...                      1                       1\n",
              "4    1       2  ...                      1                       0\n",
              "\n",
              "[5 rows x 18 columns]"
            ]
          },
          "metadata": {},
          "execution_count": 46
        }
      ]
    },
    {
      "cell_type": "code",
      "metadata": {
        "id": "RwZw24CVV62u"
      },
      "source": [
        "file_name = '2019_predicted_biclass-010cm.xlsx'\n",
        "val_19.to_excel(file_name)"
      ],
      "execution_count": 47,
      "outputs": []
    },
    {
      "cell_type": "markdown",
      "metadata": {
        "id": "85adWFRLWIFG"
      },
      "source": [
        "## 2020 VERİLERİ"
      ]
    },
    {
      "cell_type": "markdown",
      "metadata": {
        "id": "MAP2VSARWP71"
      },
      "source": [
        "DOĞRULAMA VERİ SETİNİN (2020) YÜKLENMESİ"
      ]
    },
    {
      "cell_type": "code",
      "metadata": {
        "colab": {
          "base_uri": "https://localhost:8080/",
          "height": 243
        },
        "id": "VwDCetddWRL1",
        "outputId": "da3ad753-b25f-43cf-9cb1-8c880d731762"
      },
      "source": [
        "val_20 = pd.read_csv('AB39_2020_binary_0_10.csv', delimiter=';')\n",
        "val_20.head()"
      ],
      "execution_count": 48,
      "outputs": [
        {
          "output_type": "execute_result",
          "data": {
            "text/html": [
              "<div>\n",
              "<style scoped>\n",
              "    .dataframe tbody tr th:only-of-type {\n",
              "        vertical-align: middle;\n",
              "    }\n",
              "\n",
              "    .dataframe tbody tr th {\n",
              "        vertical-align: top;\n",
              "    }\n",
              "\n",
              "    .dataframe thead th {\n",
              "        text-align: right;\n",
              "    }\n",
              "</style>\n",
              "<table border=\"1\" class=\"dataframe\">\n",
              "  <thead>\n",
              "    <tr style=\"text-align: right;\">\n",
              "      <th></th>\n",
              "      <th>doy</th>\n",
              "      <th>sat_id</th>\n",
              "      <th>amplitude</th>\n",
              "      <th>first_epoch_sec</th>\n",
              "      <th>noe_15sec</th>\n",
              "      <th>min_elev_deg</th>\n",
              "      <th>elev_range_deg</th>\n",
              "      <th>mean_azim_deg</th>\n",
              "      <th>bgn_ratio</th>\n",
              "      <th>decision</th>\n",
              "      <th>est_sd_cm</th>\n",
              "      <th>insitu_sd_cm</th>\n",
              "      <th>abs_diff_cm</th>\n",
              "      <th>Unnamed: 13</th>\n",
              "      <th>Unnamed: 14</th>\n",
              "    </tr>\n",
              "  </thead>\n",
              "  <tbody>\n",
              "    <tr>\n",
              "      <th>0</th>\n",
              "      <td>1</td>\n",
              "      <td>1</td>\n",
              "      <td>9.4402</td>\n",
              "      <td>8085</td>\n",
              "      <td>293</td>\n",
              "      <td>5.2349</td>\n",
              "      <td>19.7399</td>\n",
              "      <td>68.09035</td>\n",
              "      <td>3.075484607</td>\n",
              "      <td>1</td>\n",
              "      <td>16.0</td>\n",
              "      <td>27.9</td>\n",
              "      <td>11.9</td>\n",
              "      <td>NaN</td>\n",
              "      <td>NaN</td>\n",
              "    </tr>\n",
              "    <tr>\n",
              "      <th>1</th>\n",
              "      <td>1</td>\n",
              "      <td>1</td>\n",
              "      <td>17.9102</td>\n",
              "      <td>15555</td>\n",
              "      <td>293</td>\n",
              "      <td>5.1676</td>\n",
              "      <td>19.8127</td>\n",
              "      <td>20.10480</td>\n",
              "      <td>4.452393974</td>\n",
              "      <td>0</td>\n",
              "      <td>29.7</td>\n",
              "      <td>27.9</td>\n",
              "      <td>1.8</td>\n",
              "      <td>NaN</td>\n",
              "      <td>NaN</td>\n",
              "    </tr>\n",
              "    <tr>\n",
              "      <th>2</th>\n",
              "      <td>1</td>\n",
              "      <td>1</td>\n",
              "      <td>12.3846</td>\n",
              "      <td>51105</td>\n",
              "      <td>186</td>\n",
              "      <td>5.1617</td>\n",
              "      <td>19.6820</td>\n",
              "      <td>280.24775</td>\n",
              "      <td>3.048066747</td>\n",
              "      <td>0</td>\n",
              "      <td>24.2</td>\n",
              "      <td>27.9</td>\n",
              "      <td>3.7</td>\n",
              "      <td>NaN</td>\n",
              "      <td>NaN</td>\n",
              "    </tr>\n",
              "    <tr>\n",
              "      <th>3</th>\n",
              "      <td>1</td>\n",
              "      <td>1</td>\n",
              "      <td>6.6518</td>\n",
              "      <td>67440</td>\n",
              "      <td>153</td>\n",
              "      <td>8.2747</td>\n",
              "      <td>16.6849</td>\n",
              "      <td>182.08240</td>\n",
              "      <td>2.738155024</td>\n",
              "      <td>1</td>\n",
              "      <td>84.7</td>\n",
              "      <td>27.9</td>\n",
              "      <td>56.8</td>\n",
              "      <td>NaN</td>\n",
              "      <td>NaN</td>\n",
              "    </tr>\n",
              "    <tr>\n",
              "      <th>4</th>\n",
              "      <td>1</td>\n",
              "      <td>2</td>\n",
              "      <td>7.2395</td>\n",
              "      <td>19215</td>\n",
              "      <td>180</td>\n",
              "      <td>6.1304</td>\n",
              "      <td>18.6865</td>\n",
              "      <td>151.83860</td>\n",
              "      <td>2.848290514</td>\n",
              "      <td>1</td>\n",
              "      <td>66.4</td>\n",
              "      <td>27.9</td>\n",
              "      <td>38.5</td>\n",
              "      <td>NaN</td>\n",
              "      <td>NaN</td>\n",
              "    </tr>\n",
              "  </tbody>\n",
              "</table>\n",
              "</div>"
            ],
            "text/plain": [
              "   doy  sat_id  amplitude  ...  abs_diff_cm  Unnamed: 13  Unnamed: 14\n",
              "0    1       1     9.4402  ...         11.9          NaN          NaN\n",
              "1    1       1    17.9102  ...          1.8          NaN          NaN\n",
              "2    1       1    12.3846  ...          3.7          NaN          NaN\n",
              "3    1       1     6.6518  ...         56.8          NaN          NaN\n",
              "4    1       2     7.2395  ...         38.5          NaN          NaN\n",
              "\n",
              "[5 rows x 15 columns]"
            ]
          },
          "metadata": {},
          "execution_count": 48
        }
      ]
    },
    {
      "cell_type": "code",
      "metadata": {
        "colab": {
          "base_uri": "https://localhost:8080/"
        },
        "id": "qog3TGrDWc02",
        "outputId": "552de8a9-52d0-4694-c251-46c6bbd49185"
      },
      "source": [
        "val_20.shape"
      ],
      "execution_count": 49,
      "outputs": [
        {
          "output_type": "execute_result",
          "data": {
            "text/plain": [
              "(38677, 15)"
            ]
          },
          "metadata": {},
          "execution_count": 49
        }
      ]
    },
    {
      "cell_type": "code",
      "metadata": {
        "colab": {
          "base_uri": "https://localhost:8080/",
          "height": 285
        },
        "id": "6JxH_rx7WecA",
        "outputId": "31eff1ed-2ab4-4a15-9267-65bc64d522d6"
      },
      "source": [
        "ax = sns.countplot(x=\"decision\", data=val_20)"
      ],
      "execution_count": 50,
      "outputs": [
        {
          "output_type": "display_data",
          "data": {
            "image/png": "[encoded data removed]",
            "text/plain": [
              "<Figure size 432x288 with 1 Axes>"
            ]
          },
          "metadata": {
            "needs_background": "light"
          }
        }
      ]
    },
    {
      "cell_type": "markdown",
      "metadata": {
        "id": "sM6hlgqnWmmb"
      },
      "source": [
        "BAĞIMLI VE BAĞIMSIZ DEĞİŞKENLERİN SEÇİMİ"
      ]
    },
    {
      "cell_type": "code",
      "metadata": {
        "id": "xCNwfDdTWjO7"
      },
      "source": [
        "X_val20 = val_20.iloc[:,0:8].values  # Independent variables\n",
        "y_val20 = val_20['decision'].values  # Dependent variable"
      ],
      "execution_count": 51,
      "outputs": []
    },
    {
      "cell_type": "markdown",
      "metadata": {
        "id": "cxIhQZ2kWsyN"
      },
      "source": [
        "RANDOM FOREST ALGORİTMASI İLE SINIFLANDIRMA DOĞRULAMASI"
      ]
    },
    {
      "cell_type": "code",
      "metadata": {
        "id": "QZkUAt59WyHG"
      },
      "source": [
        "y_predict_RFC = RFC_best.predict(X_val20)"
      ],
      "execution_count": 52,
      "outputs": []
    },
    {
      "cell_type": "code",
      "metadata": {
        "colab": {
          "base_uri": "https://localhost:8080/",
          "height": 556
        },
        "id": "8p5LJqfeW3Gu",
        "outputId": "cc453983-ce88-4578-a996-3bc4c08ca73d"
      },
      "source": [
        "print(confusion_matrix(y_val20, y_predict_RFC))\n",
        "print(classification_report(y_val20, y_predict_RFC)) \n",
        "\n",
        "df_cm_RFC= pd.DataFrame(confusion_matrix(y_val20, y_predict_RFC), index = [i for i in [\"Good\",  'Bad']],\n",
        "                  columns = [i for i in [\"Good\",'Bad']])\n",
        "plt.figure(figsize = (5,5))\n",
        "plt.title('Confusion Matrix (Random Forest Classifier) - 2020 Validation Data Set')\n",
        "sns.heatmap(df_cm_RFC, annot = True, fmt='g', cmap='Blues')"
      ],
      "execution_count": 54,
      "outputs": [
        {
          "output_type": "stream",
          "name": "stdout",
          "text": [
            "[[ 6622  4529]\n",
            " [ 3925 23601]]\n",
            "              precision    recall  f1-score   support\n",
            "\n",
            "           0       0.63      0.59      0.61     11151\n",
            "           1       0.84      0.86      0.85     27526\n",
            "\n",
            "    accuracy                           0.78     38677\n",
            "   macro avg       0.73      0.73      0.73     38677\n",
            "weighted avg       0.78      0.78      0.78     38677\n",
            "\n"
          ]
        },
        {
          "output_type": "execute_result",
          "data": {
            "text/plain": [
              "<matplotlib.axes._subplots.AxesSubplot at 0x7f67214d0650>"
            ]
          },
          "metadata": {},
          "execution_count": 54
        },
        {
          "output_type": "display_data",
          "data": {
            "image/png": "[encoded data removed]",
            "text/plain": [
              "<Figure size 360x360 with 2 Axes>"
            ]
          },
          "metadata": {
            "needs_background": "light"
          }
        }
      ]
    },
    {
      "cell_type": "code",
      "metadata": {
        "colab": {
          "base_uri": "https://localhost:8080/",
          "height": 301
        },
        "id": "MHTEcv3DXVLu",
        "outputId": "7c0c04e3-b292-4bea-9af1-e2e43e119bbe"
      },
      "source": [
        "from sklearn.metrics import roc_curve\n",
        "fpr, tpr, thresholds = roc_curve(y_val20, y_predict_RFC)\n",
        "plt.plot([0,1],[0,1],'k--')\n",
        "plt.plot(fpr,tpr, label='Random Forest Classifier')\n",
        "plt.xlabel('False Positive Rate')\n",
        "plt.ylabel('True Positive Rate')\n",
        "plt.title('Random Forest Classifier ROC curve - 2020 Validation Data Set ')\n",
        "plt.show()"
      ],
      "execution_count": 55,
      "outputs": [
        {
          "output_type": "display_data",
          "data": {
            "image/png": "[encoded data removed]",
            "text/plain": [
              "<Figure size 432x288 with 1 Axes>"
            ]
          },
          "metadata": {
            "needs_background": "light"
          }
        }
      ]
    },
    {
      "cell_type": "code",
      "metadata": {
        "colab": {
          "base_uri": "https://localhost:8080/"
        },
        "id": "q8o_tCjcXcMA",
        "outputId": "61e999ba-e2e2-46e0-b243-40072586259f"
      },
      "source": [
        "from sklearn.metrics import roc_auc_score\n",
        "print(\"Area Under Curve: \", roc_auc_score(y_val20, y_predict_RFC))"
      ],
      "execution_count": 56,
      "outputs": [
        {
          "output_type": "stream",
          "name": "stdout",
          "text": [
            "Area Under Curve:  0.7256278136669188\n"
          ]
        }
      ]
    },
    {
      "cell_type": "markdown",
      "metadata": {
        "id": "PnCqR_02Xxz3"
      },
      "source": [
        "GRADIENT BOOSTING ALGORİTMASI İLE SINIFLANDIRMA DOĞRULAMASI"
      ]
    },
    {
      "cell_type": "code",
      "metadata": {
        "id": "oQcgs382Xy0N"
      },
      "source": [
        "y_predict_GBC = GBC_best.predict(X_val20)"
      ],
      "execution_count": 58,
      "outputs": []
    },
    {
      "cell_type": "code",
      "metadata": {
        "colab": {
          "base_uri": "https://localhost:8080/",
          "height": 556
        },
        "id": "XAdlWQT4YGMk",
        "outputId": "da8da573-894d-456c-fa47-917e190ac00f"
      },
      "source": [
        "print(confusion_matrix(y_val20, y_predict_GBC))\n",
        "print(classification_report(y_val20, y_predict_GBC)) \n",
        "\n",
        "df_cm_GBC= pd.DataFrame(confusion_matrix(y_val20, y_predict_GBC), index = [i for i in [\"Good\",  'Bad']],\n",
        "                  columns = [i for i in [\"Good\",'Bad']])\n",
        "plt.figure(figsize = (5,5))\n",
        "plt.title('Confusion Matrix (Gradient Boosting Classifier) - 2020 Validation Data Set')\n",
        "sns.heatmap(df_cm_GBC, annot = True, fmt='g', cmap='Blues')"
      ],
      "execution_count": 59,
      "outputs": [
        {
          "output_type": "stream",
          "name": "stdout",
          "text": [
            "[[ 7424  3727]\n",
            " [ 4651 22875]]\n",
            "              precision    recall  f1-score   support\n",
            "\n",
            "           0       0.61      0.67      0.64     11151\n",
            "           1       0.86      0.83      0.85     27526\n",
            "\n",
            "    accuracy                           0.78     38677\n",
            "   macro avg       0.74      0.75      0.74     38677\n",
            "weighted avg       0.79      0.78      0.79     38677\n",
            "\n"
          ]
        },
        {
          "output_type": "execute_result",
          "data": {
            "text/plain": [
              "<matplotlib.axes._subplots.AxesSubplot at 0x7f6721523e10>"
            ]
          },
          "metadata": {},
          "execution_count": 59
        },
        {
          "output_type": "display_data",
          "data": {
            "image/png": "[encoded data removed]",
            "text/plain": [
              "<Figure size 360x360 with 2 Axes>"
            ]
          },
          "metadata": {
            "needs_background": "light"
          }
        }
      ]
    },
    {
      "cell_type": "code",
      "metadata": {
        "colab": {
          "base_uri": "https://localhost:8080/",
          "height": 301
        },
        "id": "LBVFKteHYPRz",
        "outputId": "250a9fd9-5cd9-4404-a56f-94fc21359ef5"
      },
      "source": [
        "from sklearn.metrics import roc_curve\n",
        "fpr, tpr, thresholds = roc_curve(y_val20, y_predict_GBC)\n",
        "plt.plot([0,1],[0,1],'k--')\n",
        "plt.plot(fpr,tpr, label='Gradient Boosting Classifier')\n",
        "plt.xlabel('False Positive Rate')\n",
        "plt.ylabel('True Positive Rate')\n",
        "plt.title('Gradient Boosting Classifier ROC curve - 2020 Validation Data Set ')\n",
        "plt.show()"
      ],
      "execution_count": 60,
      "outputs": [
        {
          "output_type": "display_data",
          "data": {
            "image/png": "[encoded data removed]",
            "text/plain": [
              "<Figure size 432x288 with 1 Axes>"
            ]
          },
          "metadata": {
            "needs_background": "light"
          }
        }
      ]
    },
    {
      "cell_type": "code",
      "metadata": {
        "colab": {
          "base_uri": "https://localhost:8080/"
        },
        "id": "0qafbSKGYVWS",
        "outputId": "a6494774-88bd-47bd-9341-f45798ecaede"
      },
      "source": [
        "print(\"Area Under Curve: \",roc_auc_score(y_val20, y_predict_GBC))"
      ],
      "execution_count": 61,
      "outputs": [
        {
          "output_type": "stream",
          "name": "stdout",
          "text": [
            "Area Under Curve:  0.7484011822464713\n"
          ]
        }
      ]
    },
    {
      "cell_type": "markdown",
      "metadata": {
        "id": "XGzRZcg6Ytwm"
      },
      "source": [
        "ADABOOST ALGORİTMASI İLE SINIFLANDIRMA DOĞRULAMASI"
      ]
    },
    {
      "cell_type": "code",
      "metadata": {
        "id": "oQN72sMkY_0O"
      },
      "source": [
        "y_predict_AdaC = AdaC_best.predict(X_val20)"
      ],
      "execution_count": 63,
      "outputs": []
    },
    {
      "cell_type": "code",
      "metadata": {
        "colab": {
          "base_uri": "https://localhost:8080/",
          "height": 556
        },
        "id": "bbxgarq1YuaG",
        "outputId": "8da77282-9b8a-495f-acb3-5d2e8a2c348b"
      },
      "source": [
        "print(confusion_matrix(y_val20, y_predict_AdaC))\n",
        "print(classification_report(y_val20, y_predict_AdaC)) \n",
        "\n",
        "df_cm_AdaC= pd.DataFrame(confusion_matrix(y_val20, y_predict_AdaC), index = [i for i in [\"Good\",  'Bad']],\n",
        "                  columns = [i for i in [\"Good\",'Bad']])\n",
        "plt.figure(figsize = (5,5))\n",
        "plt.title('Confusion Matrix (AdaBoost Classifier) - 2020 Validation Data Set ')\n",
        "sns.heatmap(df_cm_AdaC, annot = True, fmt='g', cmap='Blues')"
      ],
      "execution_count": 64,
      "outputs": [
        {
          "output_type": "stream",
          "name": "stdout",
          "text": [
            "[[ 6250  4901]\n",
            " [ 7272 20254]]\n",
            "              precision    recall  f1-score   support\n",
            "\n",
            "           0       0.46      0.56      0.51     11151\n",
            "           1       0.81      0.74      0.77     27526\n",
            "\n",
            "    accuracy                           0.69     38677\n",
            "   macro avg       0.63      0.65      0.64     38677\n",
            "weighted avg       0.71      0.69      0.69     38677\n",
            "\n"
          ]
        },
        {
          "output_type": "execute_result",
          "data": {
            "text/plain": [
              "<matplotlib.axes._subplots.AxesSubplot at 0x7f6721d53810>"
            ]
          },
          "metadata": {},
          "execution_count": 64
        },
        {
          "output_type": "display_data",
          "data": {
            "image/png": "[encoded data removed]",
            "text/plain": [
              "<Figure size 360x360 with 2 Axes>"
            ]
          },
          "metadata": {
            "needs_background": "light"
          }
        }
      ]
    },
    {
      "cell_type": "code",
      "metadata": {
        "colab": {
          "base_uri": "https://localhost:8080/",
          "height": 301
        },
        "id": "CUHynTcUZM29",
        "outputId": "0edb9a0e-b7f9-4446-edc9-5abd44e1f6c3"
      },
      "source": [
        "from sklearn.metrics import roc_curve\n",
        "fpr, tpr, thresholds = roc_curve(y_val20, y_predict_AdaC)\n",
        "plt.plot([0,1],[0,1],'k--')\n",
        "plt.plot(fpr,tpr, label='AdaBoost Classifier')\n",
        "plt.xlabel('False Positive Rate')\n",
        "plt.ylabel('True Positive Rate')\n",
        "plt.title('AdaBoost Classifier ROC curve - 2020 Validation Data Set ')\n",
        "plt.show()"
      ],
      "execution_count": 65,
      "outputs": [
        {
          "output_type": "display_data",
          "data": {
            "image/png": "[encoded data removed]",
            "text/plain": [
              "<Figure size 432x288 with 1 Axes>"
            ]
          },
          "metadata": {
            "needs_background": "light"
          }
        }
      ]
    },
    {
      "cell_type": "code",
      "metadata": {
        "colab": {
          "base_uri": "https://localhost:8080/"
        },
        "id": "LqvUshV9ZSR1",
        "outputId": "e15a15d5-3ed0-47cc-ea8c-0e1b562887ca"
      },
      "source": [
        "print(\"Area Under Curve: \",roc_auc_score(y_val20, y_predict_AdaC))"
      ],
      "execution_count": 66,
      "outputs": [
        {
          "output_type": "stream",
          "name": "stdout",
          "text": [
            "Area Under Curve:  0.64815063069841\n"
          ]
        }
      ]
    },
    {
      "cell_type": "markdown",
      "metadata": {
        "id": "4GJnyvSaZb9N"
      },
      "source": [
        "SINIFLANDIRILMA SONUÇLARININ EXCEL'E AKTARIMI"
      ]
    },
    {
      "cell_type": "code",
      "metadata": {
        "colab": {
          "base_uri": "https://localhost:8080/",
          "height": 243
        },
        "id": "vqBVCEfrZcbX",
        "outputId": "86253885-ae7d-4c92-8aa4-6df9a00fa0ac"
      },
      "source": [
        "val_20['predicted_decision_RF'] = y_predict_RFC.tolist()\n",
        "val_20['predicted_decision_GB'] = y_predict_GBC.tolist()\n",
        "val_20['predicted_decision_Ada'] = y_predict_AdaC.tolist()\n",
        "val_20.head()"
      ],
      "execution_count": 67,
      "outputs": [
        {
          "output_type": "execute_result",
          "data": {
            "text/html": [
              "<div>\n",
              "<style scoped>\n",
              "    .dataframe tbody tr th:only-of-type {\n",
              "        vertical-align: middle;\n",
              "    }\n",
              "\n",
              "    .dataframe tbody tr th {\n",
              "        vertical-align: top;\n",
              "    }\n",
              "\n",
              "    .dataframe thead th {\n",
              "        text-align: right;\n",
              "    }\n",
              "</style>\n",
              "<table border=\"1\" class=\"dataframe\">\n",
              "  <thead>\n",
              "    <tr style=\"text-align: right;\">\n",
              "      <th></th>\n",
              "      <th>doy</th>\n",
              "      <th>sat_id</th>\n",
              "      <th>amplitude</th>\n",
              "      <th>first_epoch_sec</th>\n",
              "      <th>noe_15sec</th>\n",
              "      <th>min_elev_deg</th>\n",
              "      <th>elev_range_deg</th>\n",
              "      <th>mean_azim_deg</th>\n",
              "      <th>bgn_ratio</th>\n",
              "      <th>decision</th>\n",
              "      <th>est_sd_cm</th>\n",
              "      <th>insitu_sd_cm</th>\n",
              "      <th>abs_diff_cm</th>\n",
              "      <th>Unnamed: 13</th>\n",
              "      <th>Unnamed: 14</th>\n",
              "      <th>predicted_decision_RF</th>\n",
              "      <th>predicted_decision_GB</th>\n",
              "      <th>predicted_decision_Ada</th>\n",
              "    </tr>\n",
              "  </thead>\n",
              "  <tbody>\n",
              "    <tr>\n",
              "      <th>0</th>\n",
              "      <td>1</td>\n",
              "      <td>1</td>\n",
              "      <td>9.4402</td>\n",
              "      <td>8085</td>\n",
              "      <td>293</td>\n",
              "      <td>5.2349</td>\n",
              "      <td>19.7399</td>\n",
              "      <td>68.09035</td>\n",
              "      <td>3.075484607</td>\n",
              "      <td>1</td>\n",
              "      <td>16.0</td>\n",
              "      <td>27.9</td>\n",
              "      <td>11.9</td>\n",
              "      <td>NaN</td>\n",
              "      <td>NaN</td>\n",
              "      <td>1</td>\n",
              "      <td>0</td>\n",
              "      <td>0</td>\n",
              "    </tr>\n",
              "    <tr>\n",
              "      <th>1</th>\n",
              "      <td>1</td>\n",
              "      <td>1</td>\n",
              "      <td>17.9102</td>\n",
              "      <td>15555</td>\n",
              "      <td>293</td>\n",
              "      <td>5.1676</td>\n",
              "      <td>19.8127</td>\n",
              "      <td>20.10480</td>\n",
              "      <td>4.452393974</td>\n",
              "      <td>0</td>\n",
              "      <td>29.7</td>\n",
              "      <td>27.9</td>\n",
              "      <td>1.8</td>\n",
              "      <td>NaN</td>\n",
              "      <td>NaN</td>\n",
              "      <td>0</td>\n",
              "      <td>0</td>\n",
              "      <td>0</td>\n",
              "    </tr>\n",
              "    <tr>\n",
              "      <th>2</th>\n",
              "      <td>1</td>\n",
              "      <td>1</td>\n",
              "      <td>12.3846</td>\n",
              "      <td>51105</td>\n",
              "      <td>186</td>\n",
              "      <td>5.1617</td>\n",
              "      <td>19.6820</td>\n",
              "      <td>280.24775</td>\n",
              "      <td>3.048066747</td>\n",
              "      <td>0</td>\n",
              "      <td>24.2</td>\n",
              "      <td>27.9</td>\n",
              "      <td>3.7</td>\n",
              "      <td>NaN</td>\n",
              "      <td>NaN</td>\n",
              "      <td>1</td>\n",
              "      <td>0</td>\n",
              "      <td>1</td>\n",
              "    </tr>\n",
              "    <tr>\n",
              "      <th>3</th>\n",
              "      <td>1</td>\n",
              "      <td>1</td>\n",
              "      <td>6.6518</td>\n",
              "      <td>67440</td>\n",
              "      <td>153</td>\n",
              "      <td>8.2747</td>\n",
              "      <td>16.6849</td>\n",
              "      <td>182.08240</td>\n",
              "      <td>2.738155024</td>\n",
              "      <td>1</td>\n",
              "      <td>84.7</td>\n",
              "      <td>27.9</td>\n",
              "      <td>56.8</td>\n",
              "      <td>NaN</td>\n",
              "      <td>NaN</td>\n",
              "      <td>1</td>\n",
              "      <td>1</td>\n",
              "      <td>1</td>\n",
              "    </tr>\n",
              "    <tr>\n",
              "      <th>4</th>\n",
              "      <td>1</td>\n",
              "      <td>2</td>\n",
              "      <td>7.2395</td>\n",
              "      <td>19215</td>\n",
              "      <td>180</td>\n",
              "      <td>6.1304</td>\n",
              "      <td>18.6865</td>\n",
              "      <td>151.83860</td>\n",
              "      <td>2.848290514</td>\n",
              "      <td>1</td>\n",
              "      <td>66.4</td>\n",
              "      <td>27.9</td>\n",
              "      <td>38.5</td>\n",
              "      <td>NaN</td>\n",
              "      <td>NaN</td>\n",
              "      <td>1</td>\n",
              "      <td>1</td>\n",
              "      <td>1</td>\n",
              "    </tr>\n",
              "  </tbody>\n",
              "</table>\n",
              "</div>"
            ],
            "text/plain": [
              "   doy  sat_id  ...  predicted_decision_GB  predicted_decision_Ada\n",
              "0    1       1  ...                      0                       0\n",
              "1    1       1  ...                      0                       0\n",
              "2    1       1  ...                      0                       1\n",
              "3    1       1  ...                      1                       1\n",
              "4    1       2  ...                      1                       1\n",
              "\n",
              "[5 rows x 18 columns]"
            ]
          },
          "metadata": {},
          "execution_count": 67
        }
      ]
    },
    {
      "cell_type": "code",
      "metadata": {
        "id": "O4GvXAyQZryZ"
      },
      "source": [
        "file_name = '2020_predicted_biclass-010cm.xlsx'\n",
        "val_20.to_excel(file_name)"
      ],
      "execution_count": 68,
      "outputs": []
    }
  ]
}